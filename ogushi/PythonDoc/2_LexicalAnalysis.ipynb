{
 "cells": [
  {
   "cell_type": "code",
   "execution_count": 27,
   "metadata": {
    "collapsed": false
   },
   "outputs": [
    {
     "name": "stdout",
     "output_type": "stream",
     "text": [
      "2.1.1 Logical Line------------------------------\n",
      "This is written in one Logical Line by Signle Statement.\n",
      "This is written in two Logical Line by Compound Statement. (0)\n",
      "This is written in two Logical Line by Compound Statement. (1)\n",
      "2.1.2 Physical Line------------------------------\n",
      "This is written in one Logical Line by Signle Statement and one Physical Line.\n",
      "This is written in one Logical Line by Single Statement and two Physical Line. (look at source!)\n",
      "2.1.3 Comments------------------------------\n",
      "Comment is written at end of Physical Line, and it doesn't finish Logical Line.\n",
      "2.1.4 Encoding Declaration------------------------------\n",
      "Look at line:2 in source, Encoding Declaration is written.\n",
      "2.1.5 Explicit Line Joining------------------------------\n",
      "a = 1 + 2 + \\\n",
      "3\n",
      "a is 6\n",
      "2.1.6 Implicit Line Joining------------------------------\n",
      "l = [1,2,3,\n",
      "4,5,6]\n",
      "l is [1, 2, 3, 4, 5, 6]\n",
      "2.1.7 Blank Lines------------------------------\n",
      "l = [1,2,3,\n",
      "\n",
      "4,5,6]\n",
      "l is [1, 2, 3, 4, 5, 6]\n",
      "2.1.8 Indentation------------------------------\n",
      "Indent Level:0\n",
      "\tIndent Level:1\n",
      "\t\tIndent Level:2\n",
      "\tDedent\n",
      "2.1.9 Whitespace Between Tokens------------------------------\n",
      "a=1+2\n",
      "a is 3\n",
      "b = 1 + 2\n",
      "b is 3\n",
      "c    = 1  +   2\n",
      "c is 3\n"
     ]
    }
   ],
   "source": [
    "# for encoding test\n",
    "# -*- encoding: utf-8 -*-\n",
    "\n",
    "# 2.1 Line Structure\n",
    "\n",
    "# 2.1.1 Logical Line\n",
    "\n",
    "print(\"2.1.1 Logical Line\"+\"-\"*30)\n",
    "\n",
    "print(\"This is written in one Logical Line by Signle Statement.\")\n",
    "\n",
    "for i in range(2):\n",
    "    print(\"This is written in two Logical Line by Compound Statement. ({n})\".format(n=i))\n",
    "    \n",
    "# 2.1.2 Physical Line\n",
    "\n",
    "print(\"2.1.2 Physical Line\"+\"-\"*30)\n",
    "\n",
    "print(\"This is written in one Logical Line by Signle Statement and one Physical Line.\")\n",
    "print(\"This is written in one Logical Line by Single Statement \" +\n",
    "        \"and two Physical Line. (look at source!)\")\n",
    "\n",
    "# 2.1.3 Comments\n",
    "\n",
    "print(\"2.1.3 Comments\"+\"-\"*30)\n",
    "\n",
    "print(\"Comment is written at end of Physical Line, \" + # comment 1 (physical end and not logical end)\n",
    "      \"and it doesn't finish Logical Line.\")           # comment 2 (physical end and logical end)\n",
    "\n",
    "# 2.1.4 Encoding Declaration\n",
    "\n",
    "print(\"2.1.4 Encoding Declaration\"+\"-\"*30)\n",
    "\n",
    "print(\"Look at line:2 in source, Encoding Declaration is written.\")\n",
    "\n",
    "# 2.1.5 Explicit Line Joining\n",
    "\n",
    "print(\"2.1.5 Explicit Line Joining\"+\"-\"*30)\n",
    "\n",
    "a = 1 + 2 + \\\n",
    "    3   # comment is not permitted backslash\n",
    "print(\"a = 1 + 2 + \\\\\\n3\")\n",
    "print(\"a is {a}\".format(a=a))\n",
    "\n",
    "# 2.1.6 Implicit Line Joining\n",
    "\n",
    "print(\"2.1.6 Implicit Line Joining\"+\"-\"*30)\n",
    "\n",
    "l = [1,2,3,\n",
    "     4,5,6]\n",
    "print(\"l = [1,2,3,\\n4,5,6]\")\n",
    "print(\"l is {l}\".format(l=l))\n",
    "\n",
    "\n",
    "# 2.1.7 Blank Lines\n",
    "\n",
    "print(\"2.1.7 Blank Lines\"+\"-\"*30)\n",
    "\n",
    "l = [1,2,3,\n",
    "     \n",
    "     4,5,6]\n",
    "print(\"l = [1,2,3,\\n\\n4,5,6]\")\n",
    "print(\"l is {l}\".format(l=l))\n",
    "\n",
    "# 2.1.8 Indentation\n",
    "\n",
    "print(\"2.1.8 Indentation\"+\"-\"*30)\n",
    "\n",
    "print(\"Indent Level:0\")\n",
    "for i in range(1):\n",
    "    print(\"\\tIndent Level:1\")\n",
    "    if True:\n",
    "        print(\"\\t\\tIndent Level:2\")\n",
    "    print(\"\\tDedent\")\n",
    "    \n",
    "# 2.1.9 Whitespace Between Tokens\n",
    "\n",
    "print(\"2.1.9 Whitespace Between Tokens\"+\"-\"*30)\n",
    "\n",
    "a=1+2\n",
    "print(\"a=1+2\")\n",
    "print(\"a is {a}\".format(a=a))\n",
    "\n",
    "b = 1 + 2\n",
    "print(\"b = 1 + 2\")\n",
    "print(\"b is {b}\".format(b=b))\n",
    "\n",
    "c    = 1  +   2\n",
    "print(\"c    = 1  +   2\")\n",
    "print(\"c is {c}\".format(c=c))"
   ]
  },
  {
   "cell_type": "code",
   "execution_count": 28,
   "metadata": {
    "collapsed": true
   },
   "outputs": [],
   "source": [
    "# 2.2 Other Tokens"
   ]
  },
  {
   "cell_type": "code",
   "execution_count": 20,
   "metadata": {
    "collapsed": true
   },
   "outputs": [],
   "source": [
    "# 2.3 identifiers and keywords\n",
    "\n",
    "class ik(object):\n",
    "    \n",
    "    __a = 0\n",
    "    b = 0\n",
    "    \n",
    "    def setA(self, n):\n",
    "        self.__a = n\n",
    "    \n",
    "    def getA(self):\n",
    "        return self.__a\n",
    "    \n",
    "    def setB(self, n):\n",
    "        self.b = n\n",
    "    \n",
    "    def getB(self):\n",
    "        return self.b\n",
    "    \n",
    "i1 = ik()\n",
    "i2 = ik()"
   ]
  },
  {
   "cell_type": "code",
   "execution_count": 35,
   "metadata": {
    "collapsed": false
   },
   "outputs": [
    {
     "name": "stdout",
     "output_type": "stream",
     "text": [
      "2\n",
      "0\n",
      "0\n",
      "3\n"
     ]
    }
   ],
   "source": [
    "i1.setA(2)\n",
    "i2.setB(3)\n",
    "print(i1.getA())\n",
    "print(i1.getB())\n",
    "print(i2.getA())\n",
    "print(i2.getB())"
   ]
  },
  {
   "cell_type": "code",
   "execution_count": null,
   "metadata": {
    "collapsed": true
   },
   "outputs": [],
   "source": []
  }
 ],
 "metadata": {
  "kernelspec": {
   "display_name": "Python 3",
   "language": "python",
   "name": "python3"
  },
  "language_info": {
   "codemirror_mode": {
    "name": "ipython",
    "version": 3
   },
   "file_extension": ".py",
   "mimetype": "text/x-python",
   "name": "python",
   "nbconvert_exporter": "python",
   "pygments_lexer": "ipython3",
   "version": "3.5.1"
  }
 },
 "nbformat": 4,
 "nbformat_minor": 0
}
