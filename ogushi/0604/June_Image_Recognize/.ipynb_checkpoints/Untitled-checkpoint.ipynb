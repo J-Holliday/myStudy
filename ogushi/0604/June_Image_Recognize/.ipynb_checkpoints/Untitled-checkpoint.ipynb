{
 "cells": [
  {
   "cell_type": "code",
   "execution_count": 53,
   "metadata": {
    "collapsed": true
   },
   "outputs": [],
   "source": [
    "# 1. Preprocess\n",
    "import random\n",
    "# 1.1. Make NeuralLetwork\n",
    "# 1.1.1. Define Layers\n",
    "n_hidden = 2\n",
    "n_layer = n_hidden + 2\n",
    "\n",
    "# 1.1.2. Define Units\n",
    "n_unit_i = 7 * 7 + 1\n",
    "n_unit_h = 20 # all \n",
    "n_unit_o = 10\n",
    "\n",
    "unit_i = [0 for u in range(n_unit_i)]\n",
    "unit_h1 = [0 for u in range(n_unit_h)]\n",
    "unit_h2 = [0 for u in range(n_unit_h)]\n",
    "unit_o = [0 for u in range(n_unit_o)]\n",
    "\n",
    "# 1.1.3. Initialize weight\n",
    "w1 = [[random.uniform(-1, 1) for u_before in range(n_unit_i)] for u_after in range(n_unit_h)]\n",
    "w2 = [[random.uniform(-1, 1) for u_before in range(n_unit_h)] for u_after in range(n_unit_h)]\n",
    "w3 = [[random.uniform(-1, 1) for u_before in range(n_unit_h)] for u_after in range(n_unit_o)]"
   ]
  },
  {
   "cell_type": "code",
   "execution_count": 45,
   "metadata": {
    "collapsed": false
   },
   "outputs": [],
   "source": [
    "# 1.2. Define dataset\n",
    "\n",
    "import mydatasets\n",
    "\n",
    "n_data = 100\n",
    "ipt = mydatasets.inputdata(\"digit\")\n",
    "res = ipt.load_data2(size=(7, 7), num=n_data)\n",
    "\n",
    "train = res[0][0]\n",
    "for k in train:\n",
    "    for n in k:\n",
    "        n.insert(0, 1)\n",
    "\n",
    "\"\"\"\n",
    "teach = res[0][1]\n",
    "teach2 = []\n",
    "for t in teach:\n",
    "    buf = []\n",
    "    for o in range(n_unit_o):\n",
    "        if t == o:\n",
    "            buf.append(1) \n",
    "        else:\n",
    "            buf.append(0)\n",
    "    teach2.append(buf)\n",
    "\"\"\"\n",
    "def maketeach(kind):\n",
    "    buf = []\n",
    "    for o in range(n_unit_o):\n",
    "        if o == kind:\n",
    "            buf.append(1) \n",
    "        else:\n",
    "            buf.append(0)\n",
    "    return buf"
   ]
  },
  {
   "cell_type": "code",
   "execution_count": 46,
   "metadata": {
    "collapsed": true
   },
   "outputs": [],
   "source": [
    "# 1.3 Implement forward propagation\n",
    "import math\n",
    "\n",
    "# 1.3.1 Define activation fucntion\n",
    "def sigmoid(z):\n",
    "    if z > 10: return 0.99999\n",
    "    elif z < -10: return 0.00001\n",
    "    else: return 1 / (1 + math.exp(-1 * z))\n",
    "\n",
    "# ReLU\n",
    "def ReLU(z):\n",
    "    if z > 0: return z\n",
    "    else: return 0\n",
    "    \n",
    "# softmax\n",
    "def softmax(unit_o_k):\n",
    "    m = 0.\n",
    "    for o in range(n_unit_o):\n",
    "        m += math.exp(unit_o[o])\n",
    "    return math.exp(unit_o_k)/m\n",
    "    \n",
    "# 1.3.2 forward propagation\n",
    "def forward(train_vec):\n",
    "    \n",
    "    for i in range(n_unit_i):\n",
    "        unit_i[i] = train_vec[i]\n",
    "    unit_i[0] = 1\n",
    "        \n",
    "    # 1.3.2.1 forward between input-hidden1\n",
    "    for h1 in range(n_unit_h):\n",
    "        buf = 0\n",
    "        for i in range(n_unit_i):\n",
    "            buf += unit_i[i] * w1[h1][i]\n",
    "        unit_h1[h1] = ReLU(buf)\n",
    "    unit_h1[0] = 1\n",
    "        \n",
    "    # 1.3.2.2 forward between hidden1-hidden2\n",
    "    for h2 in range(n_unit_h):\n",
    "        buf = 0\n",
    "        for h1 in range(n_unit_h):\n",
    "            buf += unit_h1[h1] * w2[h2][h1]\n",
    "        unit_h2[h2] = ReLU(buf)\n",
    "    unit_h2[0] = 1\n",
    "\n",
    "    # 1.3.2.3 forward between hidden2-output\n",
    "    for o in range(n_unit_o):\n",
    "        buf = 0\n",
    "        for h2 in range(n_unit_h):\n",
    "            buf += unit_h2[h2] * w3[o][h2]\n",
    "        unit_o[o] = buf\n",
    "    for o in range(n_unit_o):\n",
    "        unit_o[o] = softmax(unit_o[o])\n"
   ]
  },
  {
   "cell_type": "code",
   "execution_count": 54,
   "metadata": {
    "collapsed": true
   },
   "outputs": [],
   "source": [
    "# 1.3.3 back propagation\n",
    "\n",
    "# momentum\n",
    "mom = [0 for m in range(3)]\n",
    "hyper = 0.5\n",
    "alpha = [0.1, 0.1, 0.2]\n",
    "\n",
    "def backpropagation(teach_vec):\n",
    "    \n",
    "    # 1.3.3.1 get cost\n",
    "    buf = 0\n",
    "    for o in range(n_unit_o):\n",
    "        buf += (teach_vec[o] - unit_o[o]) ** 2\n",
    "    cost = buf / 2\n",
    "    \n",
    "    # 1.3.3.2 get grad between hidden2-output\n",
    "    for o in range(n_unit_o):\n",
    "        for h2 in range(n_unit_h):\n",
    "            delta = (unit_o[o] - teach_vec[o]) * unit_o[o] * (1 - unit_o[o]) * unit_h2[h2] + hyper * mom[2]\n",
    "            mom[2] = delta\n",
    "            w3[o][h2] -= alpha[2] * delta\n",
    "            \n",
    "    # 1.3.3.3 get grad\n",
    "    for o in range(n_unit_o):\n",
    "        for h2 in range(n_unit_h):\n",
    "            for h1 in range(n_unit_h):\n",
    "                if unit_h2[h2] > 0: d_relu_2 = 1\n",
    "                else: d_relu_2 = 0\n",
    "                delta = ((unit_o[o] - teach_vec[o]) * unit_o[o] * (1 - unit_o[o])\n",
    "                         * w3[o][h2] * d_relu_2 * unit_h1[h1] + hyper * mom[1])\n",
    "                mom[1] = delta\n",
    "                w2[h2][h1] -= alpha[1] * delta\n",
    "                \n",
    "    # 1.3.3.4 get grad\n",
    "    for o in range(n_unit_o):\n",
    "        for h2 in range(n_unit_h):\n",
    "            for h1 in range(n_unit_h):\n",
    "                for i in range(n_unit_i):\n",
    "                    if unit_h2[h2] > 0: d_relu_2 = 1\n",
    "                    else: d_relu_2 = 0\n",
    "                    if unit_h1[h1] > 0: d_relu_1 = 1\n",
    "                    else: d_relu_1 = 0\n",
    "                    delta = ((unit_o[o] - teach_vec[o]) * unit_o[o] * (1 - unit_o[o])\n",
    "                             * w3[o][h2] * d_relu_2\n",
    "                             * w2[h2][h1] * d_relu_1 * unit_i[i] + hyper * mom[0])\n",
    "                    mom[0] = delta\n",
    "                    w1[h1][i] -= alpha[0] *delta\n",
    "                    \n",
    "    return cost"
   ]
  },
  {
   "cell_type": "code",
   "execution_count": 55,
   "metadata": {
    "collapsed": false
   },
   "outputs": [
    {
     "name": "stdout",
     "output_type": "stream",
     "text": [
      "Backpropagation training is started now.\n",
      "learn num: 100\n",
      "learn num: 200\n",
      "learn num: 300\n",
      "learn num: 400\n",
      "learn num: 500\n",
      "learn num: 600\n",
      "learn num: 700\n",
      "learn num: 800\n",
      "learn num: 900\n",
      "learn num: 1000\n",
      "learn num: 1100\n",
      "learn num: 1200\n",
      "learn num: 1300\n",
      "learn num: 1400\n",
      "learn num: 1500\n",
      "learn num: 1600\n",
      "learn num: 1700\n",
      "learn num: 1800\n",
      "learn num: 1900\n",
      "learn num: 2000\n",
      "cost is least than error threshold. (n: 2001)\n"
     ]
    },
    {
     "data": {
      "image/png": "[encoded data removed]",
      "text/plain": [
       "<matplotlib.figure.Figure at 0x21d492c2cc0>"
      ]
     },
     "metadata": {},
     "output_type": "display_data"
    }
   ],
   "source": [
    "import matplotlib.pyplot as plt\n",
    "%matplotlib inline\n",
    "plt_x = []\n",
    "plt_y = []\n",
    "\n",
    "n_epoch = 3\n",
    "n_train = len(train)\n",
    "kind = 10\n",
    "n = 0\n",
    "error_threshold = 0.001\n",
    "\n",
    "print(\"Backpropagation training is started now.\")\n",
    "\n",
    "def training(n):\n",
    "    for e in range(n_epoch):\n",
    "        for d in range(n_data):\n",
    "            for k in range(kind):\n",
    "                try:\n",
    "                    n += 1\n",
    "                    forward(train[k][d])\n",
    "                    c = backpropagation(maketeach(k))\n",
    "                    plt_x.append(n)\n",
    "                    plt_y.append(c)\n",
    "                    if n % 100 == 0:\n",
    "                        print(\"learn num: {0}\".format(n))\n",
    "                    if c < error_threshold and e > n_epoch // 2:\n",
    "                        print(\"cost is least than error threshold. (n: {})\".format(n))\n",
    "                        return 1\n",
    "                except Exception as e:\n",
    "                    print(\"n:{}, d:{}, k{}, Error:{}\".format(n, d, k, e.args))\n",
    "                    pass\n",
    "    return 0\n",
    "\n",
    "training(n)\n",
    "plt.plot(plt_x, plt_y)\n",
    "plt.xlim(0, 4000)\n",
    "plt.ylim(0, 1.5)\n",
    "plt.show()"
   ]
  },
  {
   "cell_type": "code",
   "execution_count": 58,
   "metadata": {
    "collapsed": false
   },
   "outputs": [
    {
     "data": {
      "image/png": "[encoded data removed]",
      "text/plain": [
       "<matplotlib.figure.Figure at 0x21d489dab38>"
      ]
     },
     "metadata": {},
     "output_type": "display_data"
    }
   ],
   "source": [
    "plt.plot(plt_x, plt_y)\n",
    "plt.xlim(1900, 2001)\n",
    "plt.ylim(0.0, 0.51)\n",
    "plt.show()"
   ]
  },
  {
   "cell_type": "code",
   "execution_count": 61,
   "metadata": {
    "collapsed": false
   },
   "outputs": [
    {
     "data": {
      "text/plain": [
       "[1,\n",
       " 1.0,\n",
       " 1.0,\n",
       " 1.0,\n",
       " 1.0,\n",
       " 1.0,\n",
       " 1.0,\n",
       " 1.0,\n",
       " 1.0,\n",
       " 1.0,\n",
       " 1.0,\n",
       " 1.0,\n",
       " 1.0,\n",
       " 1.0,\n",
       " 1.0,\n",
       " 1.0,\n",
       " 1.0,\n",
       " 0.7490196078431373,\n",
       " 0.25098039215686274,\n",
       " 0.5019607843137255,\n",
       " 1.0,\n",
       " 1.0,\n",
       " 1.0,\n",
       " 1.0,\n",
       " 0.0,\n",
       " 0.0,\n",
       " 0.5019607843137255,\n",
       " 1.0,\n",
       " 1.0,\n",
       " 1.0,\n",
       " 1.0,\n",
       " 1.0,\n",
       " 0.0,\n",
       " 1.0,\n",
       " 1.0,\n",
       " 1.0,\n",
       " 1.0,\n",
       " 1.0,\n",
       " 0.7490196078431373,\n",
       " 0.5019607843137255,\n",
       " 1.0,\n",
       " 1.0,\n",
       " 1.0,\n",
       " 1.0,\n",
       " 1.0,\n",
       " 0.5019607843137255,\n",
       " 1.0,\n",
       " 1.0,\n",
       " 1.0,\n",
       " 1.0]"
      ]
     },
     "execution_count": 61,
     "metadata": {},
     "output_type": "execute_result"
    }
   ],
   "source": [
    "forward(train[9][1])\n",
    "unit_i"
   ]
  },
  {
   "cell_type": "code",
   "execution_count": 64,
   "metadata": {
    "collapsed": true
   },
   "outputs": [],
   "source": [
    "def forecast(train_data, dim):\n",
    "    forward(train_data)\n",
    "    res = unit_o\n",
    "    n = 0\n",
    "    for r in res:\n",
    "        if r == min(res):\n",
    "            max_score = n\n",
    "        n += 1\n",
    "    print(\"max score : {}\".format(max_score))\n",
    "    \n",
    "    import numpy as np\n",
    "    import cv2\n",
    "    mat = []\n",
    "    for t in range(len(train_data)):\n",
    "        row = []\n",
    "        for r in range(dim):\n",
    "            row.append(train_data[r])\n",
    "        \n",
    "        mat.append(np.array(row))\n",
    "    cv2.imshow('result', np.array(mat))"
   ]
  },
  {
   "cell_type": "code",
   "execution_count": 66,
   "metadata": {
    "collapsed": false
   },
   "outputs": [
    {
     "name": "stdout",
     "output_type": "stream",
     "text": [
      "max score : 2\n"
     ]
    }
   ],
   "source": [
    "forecast(train[0][0], 7)"
   ]
  },
  {
   "cell_type": "code",
   "execution_count": null,
   "metadata": {
    "collapsed": true
   },
   "outputs": [],
   "source": []
  }
 ],
 "metadata": {
  "kernelspec": {
   "display_name": "Python 3",
   "language": "python",
   "name": "python3"
  },
  "language_info": {
   "codemirror_mode": {
    "name": "ipython",
    "version": 3
   },
   "file_extension": ".py",
   "mimetype": "text/x-python",
   "name": "python",
   "nbconvert_exporter": "python",
   "pygments_lexer": "ipython3",
   "version": "3.5.1"
  }
 },
 "nbformat": 4,
 "nbformat_minor": 0
}
