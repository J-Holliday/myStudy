{
 "cells": [
  {
   "cell_type": "code",
   "execution_count": 40,
   "metadata": {
    "collapsed": true
   },
   "outputs": [],
   "source": [
    "# 1. Preprocess\n",
    "import random\n",
    "# 1.1. Make NeuralLetwork\n",
    "# 1.1.1. Define Layers\n",
    "n_hidden = 2\n",
    "n_layer = n_hidden + 2\n",
    "\n",
    "# 1.1.2. Define Units\n",
    "n_unit_i = 7 * 7 + 1\n",
    "n_unit_h = 20 # all \n",
    "n_unit_o = 10\n",
    "\n",
    "unit_i = [0 for u in range(n_unit_i)]\n",
    "unit_h1 = [0 for u in range(n_unit_h)]\n",
    "unit_h2 = [0 for u in range(n_unit_h)]\n",
    "unit_o = [0 for u in range(n_unit_o)]\n",
    "\n",
    "# 1.1.3. Initialize weight\n",
    "w1 = [[random.uniform(-1, 1) for u_before in range(n_unit_i)] for u_after in range(n_unit_h)]\n",
    "w2 = [[random.uniform(-1, 1) for u_before in range(n_unit_h)] for u_after in range(n_unit_h)]\n",
    "w3 = [[random.uniform(-1, 1) for u_before in range(n_unit_h)] for u_after in range(n_unit_o)]"
   ]
  },
  {
   "cell_type": "code",
   "execution_count": 2,
   "metadata": {
    "collapsed": false
   },
   "outputs": [],
   "source": [
    "# 1.2. Define dataset\n",
    "\n",
    "import mydatasets\n",
    "\n",
    "n_data = 100\n",
    "ipt = mydatasets.inputdata(\"digit\")\n",
    "res = ipt.load_data2(size=(7, 7), num=n_data)\n",
    "\n",
    "train = res[0][0]\n",
    "for k in train:\n",
    "    for n in k:\n",
    "        n.insert(0, 1)\n",
    "\n",
    "\"\"\"\n",
    "teach = res[0][1]\n",
    "teach2 = []\n",
    "for t in teach:\n",
    "    buf = []\n",
    "    for o in range(n_unit_o):\n",
    "        if t == o:\n",
    "            buf.append(1) \n",
    "        else:\n",
    "            buf.append(0)\n",
    "    teach2.append(buf)\n",
    "\"\"\"\n",
    "def maketeach(kind):\n",
    "    buf = []\n",
    "    for o in range(n_unit_o):\n",
    "        if o == kind:\n",
    "            buf.append(1) \n",
    "        else:\n",
    "            buf.append(0)\n",
    "    return buf"
   ]
  },
  {
   "cell_type": "code",
   "execution_count": 3,
   "metadata": {
    "collapsed": true
   },
   "outputs": [],
   "source": [
    "\"\"\"\n",
    "# 1.3 Implement forward propagation\n",
    "import math\n",
    "\n",
    "# 1.3.1 Define activation fucntion\n",
    "def sigmoid(z):\n",
    "    if z > 10: return 0.99999\n",
    "    elif z < -10: return 0.00001\n",
    "    else: return 1 / (1 + math.exp(-1 * z))\n",
    "\n",
    "# ReLU\n",
    "def ReLU(z):\n",
    "    if z > 0: return z\n",
    "    else: return 0\n",
    "    \n",
    "# softmax\n",
    "def softmax(unit_o_k):\n",
    "    m = 0.\n",
    "    for o in range(n_unit_o):\n",
    "        m += math.exp(unit_o[o])\n",
    "    return math.exp(unit_o_k)/m\n",
    "    \n",
    "# 1.3.2 forward propagation\n",
    "def forward(train_vec):\n",
    "    \n",
    "    for i in range(n_unit_i):\n",
    "        unit_i[i] = train_vec[i]\n",
    "    unit_i[0] = 1\n",
    "        \n",
    "    # 1.3.2.1 forward between input-hidden1\n",
    "    for h1 in range(n_unit_h):\n",
    "        buf = 0\n",
    "        for i in range(n_unit_i):\n",
    "            buf += unit_i[i] * w1[h1][i]\n",
    "        unit_h1[h1] = ReLU(buf)\n",
    "    unit_h1[0] = 1\n",
    "        \n",
    "    # 1.3.2.2 forward between hidden1-hidden2\n",
    "    for h2 in range(n_unit_h):\n",
    "        buf = 0\n",
    "        for h1 in range(n_unit_h):\n",
    "            buf += unit_h1[h1] * w2[h2][h1]\n",
    "        unit_h2[h2] = ReLU(buf)\n",
    "    unit_h2[0] = 1\n",
    "\n",
    "    # 1.3.2.3 forward between hidden2-output\n",
    "    for o in range(n_unit_o):\n",
    "        buf = 0\n",
    "        for h2 in range(n_unit_h):\n",
    "            buf += unit_h2[h2] * w3[o][h2]\n",
    "        unit_o[o] = buf\n",
    "    for o in range(n_unit_o):\n",
    "        unit_o[o] = softmax(unit_o[o])\n",
    "\"\"\"\n",
    "# 1.3 Implement forward propagation\n",
    "import math\n",
    "\n",
    "# 1.3.1 Define activation fucntion\n",
    "def sigmoid(z):\n",
    "    if z > 10: return 0.99999\n",
    "    elif z < -10: return 0.00001\n",
    "    else: return 1 / (1 + math.exp(-1 * z))\n",
    "    \n",
    "# 1.3.2 forward propagation\n",
    "\n",
    "def forward(train_vec):\n",
    "    \n",
    "    for i in range(n_unit_i):\n",
    "        unit_i[i] = train_vec[i]\n",
    "    unit_i[0] = 1\n",
    "        \n",
    "    # 1.3.2.1 forward between input-hidden1\n",
    "    for h1 in range(n_unit_h):\n",
    "        buf = 0\n",
    "        for i in range(n_unit_i):\n",
    "            buf += unit_i[i] * w1[h1][i]\n",
    "        unit_h1[h1] = sigmoid(buf)\n",
    "    unit_h1[0] = 1\n",
    "        \n",
    "    # 1.3.2.2 forward between hidden1-hidden2\n",
    "    for h2 in range(n_unit_h):\n",
    "        buf = 0\n",
    "        for h1 in range(n_unit_h):\n",
    "            buf += unit_h1[h1] * w2[h2][h1]\n",
    "        unit_h2[h2] = sigmoid(buf)\n",
    "    unit_h2[0] = 1\n",
    "\n",
    "    # 1.3.2.3 forward between hidden2-output\n",
    "    for o in range(n_unit_o):\n",
    "        buf = 0\n",
    "        for h2 in range(n_unit_h):\n",
    "            buf += unit_h2[h2] * w3[o][h2]\n",
    "        unit_o[o] = sigmoid(buf)\n"
   ]
  },
  {
   "cell_type": "code",
   "execution_count": 4,
   "metadata": {
    "collapsed": true
   },
   "outputs": [],
   "source": [
    "\"\"\"\n",
    "# 1.3.3 back propagation\n",
    "\n",
    "# momentum\n",
    "mom = [0 for m in range(3)]\n",
    "hyper = 0.1\n",
    "alpha = [0.01, 0.01, 0.01]\n",
    "\n",
    "def backpropagation(teach_vec):\n",
    "    \n",
    "    # 1.3.3.1 get cost\n",
    "    buf = 0\n",
    "    for o in range(n_unit_o):\n",
    "        buf += (teach_vec[o] - unit_o[o]) ** 2\n",
    "    cost = buf / 2\n",
    "    \n",
    "    # 1.3.3.2 get grad between hidden2-output\n",
    "    for o in range(n_unit_o):\n",
    "        for h2 in range(n_unit_h):\n",
    "            delta = (unit_o[o] - teach_vec[o]) * unit_o[o] * (1 - unit_o[o]) * unit_h2[h2] + hyper * mom[2]\n",
    "            mom[2] = delta\n",
    "            w3[o][h2] -= alpha[2] * delta\n",
    "            \n",
    "    # 1.3.3.3 get grad\n",
    "    for o in range(n_unit_o):\n",
    "        for h2 in range(n_unit_h):\n",
    "            for h1 in range(n_unit_h):\n",
    "                if unit_h2[h2] > 0: d_relu_2 = 1\n",
    "                else: d_relu_2 = 0\n",
    "                delta = ((unit_o[o] - teach_vec[o]) * unit_o[o] * (1 - unit_o[o])\n",
    "                         * w3[o][h2] * d_relu_2 * unit_h1[h1] + hyper * mom[1])\n",
    "                mom[1] = delta\n",
    "                w2[h2][h1] -= alpha[1] * delta\n",
    "                \n",
    "    # 1.3.3.4 get grad\n",
    "    for o in range(n_unit_o):\n",
    "        for h2 in range(n_unit_h):\n",
    "            for h1 in range(n_unit_h):\n",
    "                for i in range(n_unit_i):\n",
    "                    if unit_h2[h2] > 0: d_relu_2 = 1\n",
    "                    else: d_relu_2 = 0\n",
    "                    if unit_h1[h1] > 0: d_relu_1 = 1\n",
    "                    else: d_relu_1 = 0\n",
    "                    delta = ((unit_o[o] - teach_vec[o]) * unit_o[o] * (1 - unit_o[o])\n",
    "                             * w3[o][h2] * d_relu_2\n",
    "                             * w2[h2][h1] * d_relu_1 * unit_i[i] + hyper * mom[0])\n",
    "                    mom[0] = delta\n",
    "                    w1[h1][i] -= alpha[0] *delta\n",
    "                    \n",
    "    return cost\n",
    "\"\"\"\n",
    "# 1.3.3 back propagation\n",
    "\n",
    "alpha = 0.1\n",
    "def backpropagation(teach_vec):\n",
    "    \n",
    "    # 1.3.3.1 get cost\n",
    "    buf = 0\n",
    "    for o in range(n_unit_o):\n",
    "        buf += (teach_vec[o] - unit_o[o]) ** 2\n",
    "    cost = buf / 2\n",
    "    \n",
    "    # 1.3.3.2 get grad between hidden2-output\n",
    "    for o in range(n_unit_o):\n",
    "        for h2 in range(n_unit_h):\n",
    "            delta = (unit_o[o] - teach_vec[o]) * unit_o[o] * (1 - unit_o[o]) * unit_h2[h2]\n",
    "            w3[o][h2] -= alpha * delta\n",
    "            \n",
    "    # 1.3.3.3 get grad\n",
    "    for o in range(n_unit_o):\n",
    "        for h2 in range(n_unit_h):\n",
    "            for h1 in range(n_unit_h):\n",
    "                delta = ((unit_o[o] - teach_vec[o]) * unit_o[o] * (1 - unit_o[o])\n",
    "                         * w3[o][h2] * unit_h2[h2] * (1 - unit_h2[h2]) * unit_h1[h1])\n",
    "                w2[h2][h1] -= alpha * delta\n",
    "                \n",
    "    # 1.3.3.4 get grad\n",
    "    for o in range(n_unit_o):\n",
    "        for h2 in range(n_unit_h):\n",
    "            for h1 in range(n_unit_h):\n",
    "                for i in range(n_unit_i):\n",
    "                    delta = ((unit_o[o] - teach_vec[o]) * unit_o[o] * (1 - unit_o[o])\n",
    "                             * w3[o][h2] * unit_h2[h2] * (1 - unit_h2[h2])\n",
    "                             * w2[h2][h1] * unit_h1[h1] * (1 -unit_h1[h1]) * unit_i[i])\n",
    "                    w1[h1][i] -= alpha *delta\n",
    "                    \n",
    "    return cost"
   ]
  },
  {
   "cell_type": "code",
   "execution_count": 41,
   "metadata": {
    "collapsed": false
   },
   "outputs": [
    {
     "name": "stdout",
     "output_type": "stream",
     "text": [
      "Backpropagation training is started now.\n",
      "learn num: 100\n",
      "learn num: 200\n",
      "learn num: 300\n",
      "learn num: 400\n",
      "learn num: 500\n",
      "learn num: 600\n",
      "learn num: 700\n",
      "learn num: 800\n",
      "learn num: 900\n",
      "learn num: 1000\n",
      "learn num: 1100\n",
      "learn num: 1200\n",
      "learn num: 1300\n",
      "learn num: 1400\n",
      "learn num: 1500\n",
      "learn num: 1600\n",
      "learn num: 1700\n",
      "learn num: 1800\n",
      "learn num: 1900\n",
      "learn num: 2000\n",
      "learn num: 2100\n",
      "learn num: 2200\n",
      "learn num: 2300\n",
      "learn num: 2400\n",
      "learn num: 2500\n",
      "learn num: 2600\n",
      "learn num: 2700\n",
      "learn num: 2800\n",
      "learn num: 2900\n",
      "learn num: 3000\n",
      "learn num: 3100\n",
      "learn num: 3200\n",
      "learn num: 3300\n",
      "learn num: 3400\n",
      "learn num: 3500\n",
      "learn num: 3600\n",
      "learn num: 3700\n",
      "learn num: 3800\n",
      "learn num: 3900\n",
      "learn num: 4000\n",
      "learn num: 4100\n",
      "learn num: 4200\n",
      "learn num: 4300\n",
      "learn num: 4400\n",
      "learn num: 4500\n",
      "learn num: 4600\n",
      "learn num: 4700\n",
      "learn num: 4800\n",
      "learn num: 4900\n",
      "learn num: 5000\n",
      "learn num: 5100\n",
      "learn num: 5200\n",
      "learn num: 5300\n",
      "learn num: 5400\n",
      "learn num: 5500\n",
      "learn num: 5600\n",
      "learn num: 5700\n",
      "learn num: 5800\n",
      "learn num: 5900\n",
      "learn num: 6000\n",
      "learn num: 6100\n",
      "learn num: 6200\n",
      "learn num: 6300\n",
      "learn num: 6400\n",
      "learn num: 6500\n",
      "learn num: 6600\n",
      "learn num: 6700\n",
      "learn num: 6800\n",
      "learn num: 6900\n",
      "learn num: 7000\n",
      "learn num: 7100\n",
      "learn num: 7200\n",
      "learn num: 7300\n",
      "learn num: 7400\n",
      "learn num: 7500\n",
      "learn num: 7600\n",
      "learn num: 7700\n",
      "learn num: 7800\n",
      "learn num: 7900\n",
      "learn num: 8000\n",
      "learn num: 8100\n",
      "learn num: 8200\n",
      "learn num: 8300\n",
      "learn num: 8400\n",
      "learn num: 8500\n",
      "learn num: 8600\n",
      "learn num: 8700\n",
      "learn num: 8800\n",
      "learn num: 8900\n",
      "learn num: 9000\n",
      "learn num: 9100\n",
      "learn num: 9200\n",
      "learn num: 9300\n",
      "learn num: 9400\n",
      "learn num: 9500\n",
      "learn num: 9600\n",
      "learn num: 9700\n",
      "learn num: 9800\n",
      "learn num: 9900\n",
      "learn num: 10000\n"
     ]
    },
    {
     "data": {
      "image/png": "[encoded data removed]",
      "text/plain": [
       "<matplotlib.figure.Figure at 0x5720d3d080>"
      ]
     },
     "metadata": {},
     "output_type": "display_data"
    }
   ],
   "source": [
    "import matplotlib.pyplot as plt\n",
    "%matplotlib inline\n",
    "plt_x = []\n",
    "plt_y = []\n",
    "\n",
    "n_epoch = 10\n",
    "n_train = len(train)\n",
    "n_kind = 10\n",
    "n = 0\n",
    "error_threshold = 0.001\n",
    "\n",
    "print(\"Backpropagation training is started now.\")\n",
    "\n",
    "def training(n):\n",
    "    for e in range(n_epoch):\n",
    "        for d in range(n_data):\n",
    "            for k in range(n_kind):\n",
    "                try:\n",
    "                    forward(train[k][d])\n",
    "                    c = backpropagation(maketeach(k))\n",
    "                    plt_x.append(n)\n",
    "                    plt_y.append(c)\n",
    "                    if n % 100 == 0:\n",
    "                        print(\"learn num: {0}\".format(n))\n",
    "                    if c < error_threshold and e > n_epoch // 2:\n",
    "                        print(\"cost is least than error threshold. (n: {})\".format(n))\n",
    "                        return 1\n",
    "                    # for get log\n",
    "                    with open(\"logfile.csv\", \"a\") as f:\n",
    "                        strOut = \"{}, {}, {}\\n\".format(str(train[k][d]), str(maketeach(k)), c)\n",
    "                        f.write(strOut)\n",
    "                except Exception as e:\n",
    "                    print(\"n:{}, d:{}, k{}, Error:{}\".format(n, d, k, e.args))\n",
    "                    pass\n",
    "                finally:\n",
    "                    n += 1\n",
    "    return 0\n",
    "\n",
    "training(n)\n",
    "plt.plot(plt_x, plt_y)\n",
    "plt.xlim(0, 4000)\n",
    "plt.ylim(0, 1.5)\n",
    "plt.show()"
   ]
  },
  {
   "cell_type": "code",
   "execution_count": 114,
   "metadata": {
    "collapsed": false
   },
   "outputs": [
    {
     "data": {
      "image/png": "[encoded data removed]",
      "text/plain": [
       "<matplotlib.figure.Figure at 0x5720e8bf98>"
      ]
     },
     "metadata": {},
     "output_type": "display_data"
    }
   ],
   "source": [
    "plt.plot(plt_x, plt_y)\n",
    "plt.xlim(9980, 10000)\n",
    "plt.ylim(0.0, 0.6)\n",
    "plt.show()"
   ]
  },
  {
   "cell_type": "code",
   "execution_count": 109,
   "metadata": {
    "collapsed": true
   },
   "outputs": [],
   "source": [
    "def forecast(train_data, dim, printflag=True, d=0, k=0):\n",
    "    forward(train_data)\n",
    "    res = unit_o\n",
    "    n = 0\n",
    "    for r in res:\n",
    "        if r == max(res):\n",
    "            max_score = n\n",
    "        n += 1\n",
    "    if printflag:\n",
    "        print(\"max score : {}\".format(max_score))\n",
    "        print(\"scores is below : \")\n",
    "        print(res)\n",
    "    \n",
    "    import numpy as np\n",
    "    import cv2\n",
    "    mat = []\n",
    "    row = []\n",
    "    cnt = 0\n",
    "    n = 0\n",
    "    for t in range(1, len(train_data)):\n",
    "        row.append(train_data[t])\n",
    "        cnt += 1\n",
    "        n += 1\n",
    "        if cnt == 7:\n",
    "            #print(\"if statement is called at n:{}\".format(n))\n",
    "            mat.append(row)\n",
    "            row = []\n",
    "            cnt = 0\n",
    "    cv2.imwrite('output/forecast_input_{}_{}.png'.format(k, d), np.array(mat)*255)\n",
    "    \n",
    "    return max_score"
   ]
  },
  {
   "cell_type": "code",
   "execution_count": 72,
   "metadata": {
    "collapsed": false
   },
   "outputs": [
    {
     "name": "stdout",
     "output_type": "stream",
     "text": [
      "max score : 9\n",
      "scores is below : \n",
      "[0.0025071146062640485, 0.11216723401121306, 0.037997667030089624, 0.004899435716957241, 0.18656923981462248, 0.04815443893900053, 0.0838650278922355, 0.15626952963874266, 0.08222181152314238, 0.5237068410789307]\n"
     ]
    },
    {
     "data": {
      "text/plain": [
       "9"
      ]
     },
     "execution_count": 72,
     "metadata": {},
     "output_type": "execute_result"
    }
   ],
   "source": [
    "forecast(train[9][4], 7)"
   ]
  },
  {
   "cell_type": "code",
   "execution_count": 79,
   "metadata": {
    "collapsed": true
   },
   "outputs": [],
   "source": [
    "def validation(vaild_sets):\n",
    "    n_dim = 7\n",
    "    correct = 0\n",
    "    incorrect = 0\n",
    "    n_kind = 10\n",
    "    ary_correct = [0 for i in range(10)]\n",
    "    ary_hit_kind = [0 for i in range(10)]\n",
    "    for d in range(n_data):\n",
    "        for k in range(n_kind):\n",
    "            ans = forecast(train[k][d], n_dim, printflag=False, d=d, k=k)\n",
    "            if ans == k:\n",
    "                correct += 1\n",
    "                ary_correct[k] += 1\n",
    "            else:\n",
    "                incorrect += 1\n",
    "            ary_hit_kind[ans] += 1\n",
    "            \n",
    "    total = correct + incorrect\n",
    "    print(\"validation result:: correct answer is {} / {}\".format(correct, total))\n",
    "    print(\"ary_correct::\")\n",
    "    print(ary_correct)\n",
    "    print(\"ary_hit_kind::\")\n",
    "    print(ary_hit_kind)"
   ]
  },
  {
   "cell_type": "code",
   "execution_count": 76,
   "metadata": {
    "collapsed": true
   },
   "outputs": [],
   "source": [
    "valid = res[1][0]\n",
    "for k in valid:\n",
    "    for n in k:\n",
    "        n.insert(0, 1)"
   ]
  },
  {
   "cell_type": "code",
   "execution_count": 110,
   "metadata": {
    "collapsed": false
   },
   "outputs": [
    {
     "name": "stdout",
     "output_type": "stream",
     "text": [
      "validation result:: correct answer is 696 / 1000\n",
      "ary_correct::\n",
      "[89, 92, 59, 76, 59, 27, 78, 84, 73, 59]\n",
      "ary_hit_kind::\n",
      "[111, 119, 78, 112, 102, 35, 134, 103, 108, 98]\n"
     ]
    }
   ],
   "source": [
    "validation(valid)"
   ]
  },
  {
   "cell_type": "code",
   "execution_count": 26,
   "metadata": {
    "collapsed": false
   },
   "outputs": [
    {
     "name": "stdout",
     "output_type": "stream",
     "text": [
      "max score : 8\n",
      "scores is below : \n",
      "[0.1494263393763942, 0.13193514703792816, 0.08439301373298627, 0.0903124798599886, 0.08708699294559412, 0.1170024751289711, 0.1088718956632737, 0.086675810554991, 0.15898169611349391, 0.09700618346070897]\n"
     ]
    },
    {
     "data": {
      "text/plain": [
       "8"
      ]
     },
     "execution_count": 26,
     "metadata": {},
     "output_type": "execute_result"
    }
   ],
   "source": [
    "forecast(train[5][99], 7)"
   ]
  },
  {
   "cell_type": "code",
   "execution_count": 56,
   "metadata": {
    "collapsed": false
   },
   "outputs": [],
   "source": [
    "ary_plt_y = [[] for i in range(10)]\n",
    "for i in range(1000):\n",
    "    for j in range(10):\n",
    "        ary_plt_y[j].append(plt_y[i*10+j])"
   ]
  },
  {
   "cell_type": "code",
   "execution_count": 126,
   "metadata": {
    "collapsed": false
   },
   "outputs": [
    {
     "data": {
      "image/png": "[encoded data removed]",
      "text/plain": [
       "<matplotlib.figure.Figure at 0x5720d31f98>"
      ]
     },
     "metadata": {},
     "output_type": "display_data"
    }
   ],
   "source": [
    "plt.plot(plt_x[0:1000], ary_plt_y[0][:1000])\n",
    "plt.xlim(950, 980)\n",
    "plt.ylim(0.0, 0.6)\n",
    "xticks = [950+i*2 for i in range(15)]\n",
    "xticks_label = [str(950+i*2) for i in range(15)]\n",
    "plt.xticks(xticks, xticks_label)\n",
    "plt.show()"
   ]
  },
  {
   "cell_type": "code",
   "execution_count": 85,
   "metadata": {
    "collapsed": false
   },
   "outputs": [
    {
     "data": {
      "text/plain": [
       "[0, 2, 4, 6, 8, 10, 12, 14, 16, 18]"
      ]
     },
     "execution_count": 85,
     "metadata": {},
     "output_type": "execute_result"
    }
   ],
   "source": [
    "xticks"
   ]
  },
  {
   "cell_type": "code",
   "execution_count": 86,
   "metadata": {
    "collapsed": false
   },
   "outputs": [
    {
     "data": {
      "text/plain": [
       "['0', '2', '4', '6', '8', '10', '12', '14', '16', '18']"
      ]
     },
     "execution_count": 86,
     "metadata": {},
     "output_type": "execute_result"
    }
   ],
   "source": [
    "xticks_label"
   ]
  },
  {
   "cell_type": "code",
   "execution_count": null,
   "metadata": {
    "collapsed": true
   },
   "outputs": [],
   "source": []
  }
 ],
 "metadata": {
  "kernelspec": {
   "display_name": "Python 3",
   "language": "python",
   "name": "python3"
  },
  "language_info": {
   "codemirror_mode": {
    "name": "ipython",
    "version": 3
   },
   "file_extension": ".py",
   "mimetype": "text/x-python",
   "name": "python",
   "nbconvert_exporter": "python",
   "pygments_lexer": "ipython3",
   "version": "3.5.1"
  }
 },
 "nbformat": 4,
 "nbformat_minor": 0
}
